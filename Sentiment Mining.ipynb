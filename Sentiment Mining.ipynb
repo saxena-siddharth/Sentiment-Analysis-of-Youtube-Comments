{
 "cells": [
  {
   "cell_type": "code",
   "execution_count": 23,
   "metadata": {},
   "outputs": [
    {
     "name": "stderr",
     "output_type": "stream",
     "text": [
      "[nltk_data] Downloading package punkt to /Users/malkani/nltk_data...\n",
      "[nltk_data]   Package punkt is already up-to-date!\n",
      "[nltk_data] Downloading package vader_lexicon to\n",
      "[nltk_data]     /Users/malkani/nltk_data...\n"
     ]
    }
   ],
   "source": [
    "import pandas as pd \n",
    "import nltk\n",
    "nltk.download('punkt')\n",
    "from nltk import word_tokenize,sent_tokenize\n",
    "nltk.download('vader_lexicon')\n",
    "from nltk.sentiment.vader import SentimentIntensityAnalyzer\n",
    "import seaborn as sns\n",
    "import matplotlib.pyplot as plt\n",
    "import numpy as np\n",
    "%matplotlib inline\n",
    "\n",
    "\n"
   ]
  },
  {
   "cell_type": "code",
   "execution_count": 12,
   "metadata": {},
   "outputs": [],
   "source": [
    "#creating features \n",
    "\n",
    "price_words = \"price money expensive afford pay cost spend prices costs overpriced budget \\\n",
    "                     bucks priced amount spending cheaper\"\n",
    "price_words = price_words.split()\n",
    "\n",
    "camera_words = \"camera photo cameras\"\n",
    "camera_words = camera_words.split()\n",
    "\n",
    "battery_words = \"battery juice battery-life\"\n",
    "battery_words = battery_words.split()\n",
    "\n",
    "user_interface_words = \"software oneui ui interface gui\"\n",
    "user_interface_words = user_interface_words.split()\n",
    "\n",
    "sound_words = \"sound sounds speakers listen\"\n",
    "sound_words = sound_words.split()\n",
    "\n",
    "performance_words = \"performance processor ram\"\n",
    "performance_words = performance_words.split()"
   ]
  },
  {
   "cell_type": "code",
   "execution_count": 13,
   "metadata": {},
   "outputs": [
    {
     "name": "stdout",
     "output_type": "stream",
     "text": [
      "Number of comments for s10 =  28987\n",
      "Number of comments for xs =  24239\n"
     ]
    }
   ],
   "source": [
    "#importing the data set\n",
    "\n",
    "df=pd.read_csv(\"/Users/malkani/Desktop/final_set.csv\")\n",
    "\n",
    "#splitting the data set according to the model\n",
    "\n",
    "df_6t=df[df['Model']=='6t']\n",
    "df_s10=df[df['Model']=='s10']\n",
    "df_pixel3=df[df['Model']=='pixel3']\n",
    "df_xs=df[df['Model']=='xs']\n",
    "\n",
    "#comparing the number of comments \n",
    "\n",
    "print (\"Number of comments for s10 = \", len(df_s10))\n",
    "print (\"Number of comments for xs = \", len (df_xs))"
   ]
  },
  {
   "cell_type": "code",
   "execution_count": 14,
   "metadata": {},
   "outputs": [],
   "source": [
    "#converting from dataframe to list\n",
    "\n",
    "xs_comments = (\".\".join(df_xs.commentText.values.tolist())).lower()\n",
    "s10_comments = (\".\".join(df_s10.commentText.values.tolist())).lower()"
   ]
  },
  {
   "cell_type": "code",
   "execution_count": 17,
   "metadata": {},
   "outputs": [],
   "source": [
    "#splitting the paragraphs into sentences for better results when working with sentiment mining\n",
    "\n",
    "xs_comments = nltk.sent_tokenize(xs_comments)\n",
    "s10_comments = nltk.sent_tokenize(s10_comments)"
   ]
  },
  {
   "cell_type": "code",
   "execution_count": 18,
   "metadata": {},
   "outputs": [],
   "source": [
    "#iphone xs\n",
    "\n",
    "#creating empty lists of features which will be filled with the sentences containing such words\n",
    "\n",
    "price_sentence_xs = []\n",
    "camera_sentence_xs = []\n",
    "battery_sentence_xs = []\n",
    "user_interface_sentence_xs = []\n",
    "sound_sentence_xs = []\n",
    "performance_sentence_xs = []\n",
    "\n",
    "#categorizing the comments based on the features they are talking about\n",
    "\n",
    "for i , j in enumerate (xs_comments):\n",
    "    \n",
    "    for k, l in enumerate (price_words):\n",
    "        if price_words[k] in (xs_comments[i]):\n",
    "            price_sentence_xs.append(xs_comments[i])\n",
    "            \n",
    "    for k, l in enumerate (camera_words):\n",
    "        if camera_words[k] in (xs_comments[i]):\n",
    "            camera_sentence_xs.append(xs_comments[i])\n",
    "    \n",
    "    for k, l in enumerate (battery_words):\n",
    "        if battery_words[k] in (xs_comments[i]):\n",
    "            battery_sentence_xs.append(xs_comments[i])\n",
    "            \n",
    "    for k, l in enumerate (user_interface_words):\n",
    "        if user_interface_words[k] in (xs_comments[i]):\n",
    "            user_interface_sentence_xs.append(xs_comments[i])\n",
    "            \n",
    "    for k, l in enumerate (sound_words):\n",
    "        if sound_words[k] in (xs_comments[i]):\n",
    "            sound_sentence_xs.append(xs_comments[i])\n",
    "    \n",
    "    for k, l in enumerate (performance_words):\n",
    "        if performance_words[k] in (xs_comments[i]):\n",
    "            performance_sentence_xs.append(xs_comments[i])    "
   ]
  },
  {
   "cell_type": "code",
   "execution_count": 19,
   "metadata": {},
   "outputs": [],
   "source": [
    "#samsung s10\n",
    "\n",
    "#creating empty lists of features which will be filled with the sentences containing such words\n",
    "\n",
    "price_sentence_s10 = []\n",
    "camera_sentence_s10 = []\n",
    "battery_sentence_s10 = []\n",
    "user_interface_sentence_s10 = []\n",
    "sound_sentence_s10 = []\n",
    "performance_sentence_s10 = []\n",
    "\n",
    "#categorizing the comments based on the features they are talking about\n",
    "\n",
    "for i , j in enumerate (s10_comments):\n",
    "    \n",
    "    for k, l in enumerate (price_words):\n",
    "        if price_words[k] in (s10_comments[i]):\n",
    "            price_sentence_s10.append(s10_comments[i])\n",
    "            \n",
    "    for k, l in enumerate (camera_words):\n",
    "        if camera_words[k] in (s10_comments[i]):\n",
    "            camera_sentence_s10.append(s10_comments[i])\n",
    "    \n",
    "    for k, l in enumerate (battery_words):\n",
    "        if battery_words[k] in (s10_comments[i]):\n",
    "            battery_sentence_s10.append(s10_comments[i])\n",
    "            \n",
    "    for k, l in enumerate (user_interface_words):\n",
    "        if user_interface_words[k] in (s10_comments[i]):\n",
    "            user_interface_sentence_s10.append(s10_comments[i])\n",
    "            \n",
    "    for k, l in enumerate (sound_words):\n",
    "        if sound_words[k] in (s10_comments[i]):\n",
    "            sound_sentence_s10.append(s10_comments[i])\n",
    "    \n",
    "    for k, l in enumerate (performance_words):\n",
    "        if performance_words[k] in (s10_comments[i]):\n",
    "            performance_sentence_s10.append(s10_comments[i])    "
   ]
  },
  {
   "cell_type": "code",
   "execution_count": 20,
   "metadata": {},
   "outputs": [
    {
     "name": "stdout",
     "output_type": "stream",
     "text": [
      "length of list of price_sentence =  3914\n",
      "length of list of camera_sentence =  1037\n",
      "length of list of battery_sentence =  280\n",
      "length of list of user_interface_sentence =  616\n",
      "length of list of sound_sentence =  473\n",
      "length of list of performance_sentence =  245\n"
     ]
    },
    {
     "data": {
      "image/png": "[encoded data removed]",
      "text/plain": [
       "<Figure size 576x360 with 1 Axes>"
      ]
     },
     "metadata": {},
     "output_type": "display_data"
    }
   ],
   "source": [
    "#iphone xs\n",
    "\n",
    "#understanding the dataset ie: length \n",
    "\n",
    "print (\"length of list of price_sentence = \", len(price_sentence_xs) )\n",
    "print (\"length of list of camera_sentence = \", len(camera_sentence_xs))\n",
    "print (\"length of list of battery_sentence = \", len(battery_sentence_xs) )\n",
    "print (\"length of list of user_interface_sentence = \", len(user_interface_sentence_xs))\n",
    "print (\"length of list of sound_sentence = \", len(sound_sentence_xs) )\n",
    "print (\"length of list of performance_sentence = \", len(performance_sentence_xs))\n",
    "\n",
    "#converting the above infromation to dataframe\n",
    "\n",
    "df_category_xs = pd.DataFrame ([[\"price\", len(price_sentence_xs)], ['camera', len(camera_sentence_xs)],\\\n",
    "                                ['battery', len(battery_sentence_xs)],['user interface', len(user_interface_sentence_xs)],\\\n",
    "                                ['sound', len(sound_sentence_xs)],['performance', len(performance_sentence_xs)]],\\\n",
    "                                columns = [\"categories\", \"length\"])\n",
    "\n",
    "#plotting the dataframe generated above \n",
    "\n",
    "sns.set_style(\"whitegrid\")\n",
    "\n",
    "plt.figure(figsize=(8,5));\n",
    "sns.barplot(x = 'categories', y = 'length', data = df_category_xs)\n",
    "\n",
    "#creating a list of xs categories for further help\n",
    "\n",
    "xs_categories = [price_sentence_xs,camera_sentence_xs,battery_sentence_xs, user_interface_sentence_xs,\\\n",
    "                 sound_sentence_xs, performance_sentence_xs]"
   ]
  },
  {
   "cell_type": "code",
   "execution_count": 21,
   "metadata": {},
   "outputs": [
    {
     "name": "stdout",
     "output_type": "stream",
     "text": [
      "length of list of price_sentence =  2286\n",
      "length of list of camera_sentence =  1659\n",
      "length of list of battery_sentence =  255\n",
      "length of list of user_interface_sentence =  1488\n",
      "length of list of sound_sentence =  296\n",
      "length of list of performance_sentence =  1001\n"
     ]
    },
    {
     "data": {
      "image/png": "[encoded data removed]",
      "text/plain": [
       "<Figure size 576x360 with 1 Axes>"
      ]
     },
     "metadata": {},
     "output_type": "display_data"
    }
   ],
   "source": [
    "#samsung s10\n",
    "\n",
    "#understanding the dataset ie: length \n",
    "\n",
    "print (\"length of list of price_sentence = \", len(price_sentence_s10) )\n",
    "print (\"length of list of camera_sentence = \", len(camera_sentence_s10))\n",
    "print (\"length of list of battery_sentence = \", len(battery_sentence_s10) )\n",
    "print (\"length of list of user_interface_sentence = \", len(user_interface_sentence_s10))\n",
    "print (\"length of list of sound_sentence = \", len(sound_sentence_s10) )\n",
    "print (\"length of list of performance_sentence = \", len(performance_sentence_s10))\n",
    "\n",
    "#converting the above infromation to dataframe\n",
    "\n",
    "df_category_s10 = pd.DataFrame ([[\"price\", len(price_sentence_s10)], ['camera', len(camera_sentence_s10)],\\\n",
    "                                ['battery', len(battery_sentence_s10)],['user interface', len(user_interface_sentence_s10)],\\\n",
    "                                ['sound', len(sound_sentence_s10)],['performance', len(performance_sentence_s10)]],\\\n",
    "                                columns = [\"categories\", \"length\"])\n",
    "\n",
    "#plotting the dataframe generated above \n",
    "\n",
    "sns.set_style(\"whitegrid\")\n",
    "\n",
    "plt.figure(figsize=(8,5));\n",
    "sns.barplot(x = 'categories', y = 'length', data = df_category_s10)\n",
    "\n",
    "#creating a list of s10 categories for further help\n",
    "\n",
    "s10_categories = [price_sentence_s10,camera_sentence_s10,battery_sentence_s10, user_interface_sentence_s10,\\\n",
    "                 sound_sentence_s10, performance_sentence_s10]\n"
   ]
  },
  {
   "cell_type": "code",
   "execution_count": 24,
   "metadata": {},
   "outputs": [],
   "source": [
    "#initialize analyser\n",
    "\n",
    "sid = SentimentIntensityAnalyzer()"
   ]
  },
  {
   "cell_type": "code",
   "execution_count": 25,
   "metadata": {},
   "outputs": [
    {
     "name": "stdout",
     "output_type": "stream",
     "text": [
      "      compound    neg    neu    pos\n",
      "0      -0.2500  0.092  0.817  0.092\n",
      "1       0.9354  0.031  0.811  0.157\n",
      "2       0.9354  0.031  0.811  0.157\n",
      "3       0.9354  0.031  0.811  0.157\n",
      "4      -0.2960  0.121  0.879  0.000\n",
      "5      -0.7482  0.154  0.751  0.095\n",
      "6       0.0000  0.000  1.000  0.000\n",
      "7       0.0762  0.000  0.953  0.047\n",
      "8       0.0762  0.000  0.953  0.047\n",
      "9       0.0762  0.000  0.953  0.047\n",
      "10     -0.3612  0.098  0.902  0.000\n",
      "11     -0.3612  0.098  0.902  0.000\n",
      "12      0.3612  0.000  0.898  0.102\n",
      "13      0.9631  0.072  0.799  0.129\n",
      "14     -0.3595  0.062  0.938  0.000\n",
      "15     -0.2869  0.059  0.892  0.049\n",
      "16     -0.4983  0.098  0.864  0.039\n",
      "17      0.5823  0.060  0.836  0.104\n",
      "18      0.5823  0.060  0.836  0.104\n",
      "19     -0.6310  0.138  0.789  0.073\n",
      "20     -0.6310  0.138  0.789  0.073\n",
      "21     -0.6310  0.138  0.789  0.073\n",
      "22     -0.4753  0.106  0.894  0.000\n",
      "23      0.0000  0.000  1.000  0.000\n",
      "24      0.7660  0.058  0.839  0.103\n",
      "25      0.0000  0.000  1.000  0.000\n",
      "26      0.0000  0.000  1.000  0.000\n",
      "27      0.4914  0.120  0.692  0.188\n",
      "28     -0.5574  0.101  0.899  0.000\n",
      "29      0.5903  0.071  0.823  0.106\n",
      "...        ...    ...    ...    ...\n",
      "3884    0.2584  0.000  0.908  0.092\n",
      "3885    0.9970  0.039  0.705  0.256\n",
      "3886    0.9970  0.039  0.705  0.256\n",
      "3887    0.9898  0.012  0.689  0.299\n",
      "3888    0.8679  0.061  0.699  0.240\n",
      "3889    0.8360  0.040  0.708  0.252\n",
      "3890    0.7819  0.032  0.815  0.153\n",
      "3891    0.7819  0.032  0.815  0.153\n",
      "3892    0.7819  0.032  0.815  0.153\n",
      "3893    0.8221  0.000  0.752  0.248\n",
      "3894    0.8221  0.000  0.752  0.248\n",
      "3895    0.0000  0.000  1.000  0.000\n",
      "3896    0.0000  0.000  1.000  0.000\n",
      "3897    0.0000  0.000  1.000  0.000\n",
      "3898    0.0000  0.000  1.000  0.000\n",
      "3899    0.3182  0.000  0.859  0.141\n",
      "3900    0.0000  0.000  1.000  0.000\n",
      "3901    0.6408  0.031  0.830  0.139\n",
      "3902    0.7010  0.075  0.778  0.147\n",
      "3903   -0.4939  0.186  0.814  0.000\n",
      "3904    0.0000  0.000  1.000  0.000\n",
      "3905    0.2828  0.000  0.859  0.141\n",
      "3906    0.9369  0.073  0.724  0.203\n",
      "3907   -0.8998  0.177  0.747  0.076\n",
      "3908   -0.8998  0.177  0.747  0.076\n",
      "3909    0.8719  0.000  0.867  0.133\n",
      "3910    0.8719  0.000  0.867  0.133\n",
      "3911    0.3786  0.084  0.799  0.117\n",
      "3912    0.3786  0.084  0.799  0.117\n",
      "3913    0.4111  0.097  0.767  0.136\n",
      "\n",
      "[3914 rows x 4 columns]\n"
     ]
    }
   ],
   "source": [
    "#generating senetence sentiment dataframe of xs\n",
    "\n",
    "#creating lists that will store the sentiment value\n",
    "\n",
    "price_sentiment_xs = []\n",
    "camera_sentiment_xs = []\n",
    "battery_sentiment_xs = []\n",
    "user_interface_sentiment_xs = []\n",
    "sound_sentiment_xs = []\n",
    "performance_sentiment_xs = []\n",
    "\n",
    "#analyze the sentiment sentence by sentence and store it in the list \n",
    "\n",
    "for sentence in price_sentence_xs:\n",
    "    price_sentiment_xs.append(sid.polarity_scores(sentence))\n",
    "    \n",
    "\n",
    "for sentence in camera_sentence_xs:\n",
    "    camera_sentiment_xs.append(sid.polarity_scores(sentence))\n",
    "\n",
    "    \n",
    "for sentence in battery_sentence_xs:\n",
    "    battery_sentiment_xs.append(sid.polarity_scores(sentence))\n",
    "    \n",
    "\n",
    "for sentence in user_interface_sentence_xs:\n",
    "    user_interface_sentiment_xs.append(sid.polarity_scores(sentence))\n",
    "    \n",
    "\n",
    "for sentence in sound_sentence_xs:\n",
    "    sound_sentiment_xs.append(sid.polarity_scores(sentence))\n",
    "\n",
    "\n",
    "for sentence in performance_sentence_xs:\n",
    "    performance_sentiment_xs.append(sid.polarity_scores(sentence))\n",
    "\n",
    "#convert the list into dataframe and get the mean values\n",
    "\n",
    "print (pd.DataFrame(price_sentiment_xs))\n",
    "\n",
    "price_sentiment_xs = pd.DataFrame(price_sentiment_xs).mean(axis =0)\n",
    "camera_sentiment_xs = pd.DataFrame(camera_sentiment_xs).mean(axis =0)\n",
    "battery_sentiment_xs = pd.DataFrame(battery_sentiment_xs).mean(axis =0)\n",
    "user_interface_sentiment_xs = pd.DataFrame(user_interface_sentiment_xs).mean(axis =0) \n",
    "sound_sentiment_xs = pd.DataFrame(sound_sentiment_xs).mean(axis =0)\n",
    "performance_sentiment_xs = pd.DataFrame(performance_sentiment_xs).mean(axis =0)"
   ]
  },
  {
   "cell_type": "code",
   "execution_count": 26,
   "metadata": {},
   "outputs": [],
   "source": [
    "#generating senetence sentiment dataframe of s10\n",
    "\n",
    "#creating lists that will store the sentiment value\n",
    "\n",
    "price_sentiment_s10 = []\n",
    "camera_sentiment_s10 = []\n",
    "battery_sentiment_s10 = []\n",
    "user_interface_sentiment_s10 = []\n",
    "sound_sentiment_s10 = []\n",
    "performance_sentiment_s10 = []\n",
    "\n",
    "#analyze the sentiment sentence by sentence and store it in the list \n",
    "\n",
    "for sentence in price_sentence_s10:\n",
    "    price_sentiment_s10.append(sid.polarity_scores(sentence))\n",
    "    \n",
    "\n",
    "for sentence in camera_sentence_s10:\n",
    "    camera_sentiment_s10.append(sid.polarity_scores(sentence))\n",
    "\n",
    "    \n",
    "for sentence in battery_sentence_s10:\n",
    "    battery_sentiment_s10.append(sid.polarity_scores(sentence))\n",
    "    \n",
    "\n",
    "for sentence in user_interface_sentence_s10:\n",
    "    user_interface_sentiment_s10.append(sid.polarity_scores(sentence))\n",
    "    \n",
    "\n",
    "for sentence in sound_sentence_s10:\n",
    "    sound_sentiment_s10.append(sid.polarity_scores(sentence))\n",
    "\n",
    "\n",
    "for sentence in performance_sentence_s10:\n",
    "    performance_sentiment_s10.append(sid.polarity_scores(sentence))\n",
    "\n",
    "#convert the list into dataframe and get the mean of the values\n",
    "\n",
    "price_sentiment_s10 = pd.DataFrame(price_sentiment_s10).mean(axis = 0)\n",
    "camera_sentiment_s10 = pd.DataFrame(camera_sentiment_s10).mean(axis =0)\n",
    "battery_sentiment_s10 = pd.DataFrame(battery_sentiment_s10).mean(axis =0)\n",
    "user_interface_sentiment_s10 = pd.DataFrame(user_interface_sentiment_s10).mean(axis =0)\n",
    "sound_sentiment_s10 = pd.DataFrame(sound_sentiment_s10).mean(axis =0)\n",
    "performance_sentiment_s10 = pd.DataFrame(performance_sentiment_s10).mean(axis =0)"
   ]
  },
  {
   "cell_type": "code",
   "execution_count": 27,
   "metadata": {},
   "outputs": [],
   "source": [
    "#creating a dataframe of all the sentiments mean values for all the categories\n",
    "\n",
    "df_sentiment_analyzer_s10 = pd.DataFrame(data = [price_sentiment_s10,camera_sentiment_s10,battery_sentiment_s10,\\\n",
    "                                                user_interface_sentiment_s10, sound_sentiment_s10,\\\n",
    "                                                performance_sentiment_s10],\\\n",
    "                                                index = ['price', 'camera', 'battery',\\\n",
    "                                                        'user interface', 'sound', 'perfromance'])\n",
    "\n",
    "df_sentiment_analyzer_xs = pd.DataFrame(data = [price_sentiment_xs,camera_sentiment_xs,battery_sentiment_xs,\\\n",
    "                                                user_interface_sentiment_xs, sound_sentiment_xs,\\\n",
    "                                                performance_sentiment_xs],\\\n",
    "                                                index = ['price', 'camera', 'battery',\\\n",
    "                                                        'user interface', 'sound', 'perfromance'])\n",
    "\n"
   ]
  },
  {
   "cell_type": "code",
   "execution_count": 28,
   "metadata": {},
   "outputs": [
    {
     "name": "stdout",
     "output_type": "stream",
     "text": [
      "Samsung s10 sentiments analyzer\n",
      "\n",
      "                 compound       neg       neu       pos\n",
      "price           0.193265  0.067384  0.829280  0.103332\n",
      "camera          0.199554  0.068787  0.821064  0.110153\n",
      "battery         0.231281  0.060373  0.825608  0.113996\n",
      "user interface  0.289210  0.053977  0.832163  0.113847\n",
      "sound           0.314599  0.059395  0.810777  0.129872\n",
      "perfromance     0.205092  0.059694  0.836970  0.103347 \n",
      "\n",
      "iPhone xs sentiment analyzer\n",
      "\n",
      "                 compound       neg       neu       pos\n",
      "price           0.205322  0.070192  0.827001  0.102803\n",
      "camera          0.344355  0.053249  0.804729  0.142022\n",
      "battery         0.163669  0.073511  0.828082  0.098421\n",
      "user interface  0.188379  0.069606  0.825865  0.104523\n",
      "sound           0.350573  0.062444  0.805277  0.132281\n",
      "perfromance     0.272603  0.059286  0.826265  0.114465\n"
     ]
    }
   ],
   "source": [
    "#understanding the different sentiments and their score\n",
    "\n",
    "print ('Samsung s10 sentiments analyzer\\n\\n' , df_sentiment_analyzer_s10, \"\\n\")\n",
    "print ('iPhone xs sentiment analyzer\\n\\n', df_sentiment_analyzer_xs)"
   ]
  },
  {
   "cell_type": "code",
   "execution_count": 29,
   "metadata": {},
   "outputs": [
    {
     "name": "stdout",
     "output_type": "stream",
     "text": [
      "          feature     value\n",
      "0           price  0.193265\n",
      "1          camera  0.199554\n",
      "2         battery  0.231281\n",
      "3  user interface  0.289210\n",
      "4           sound  0.314599\n",
      "5     performance  0.205092\n",
      "          feature     value\n",
      "0           price  0.205322\n",
      "1          camera  0.344355\n",
      "2         battery  0.163669\n",
      "3  user interface  0.188379\n",
      "4           sound  0.350573\n",
      "5     performance  0.272603\n"
     ]
    },
    {
     "data": {
      "image/png": "[encoded data removed]",
      "text/plain": [
       "<Figure size 432x288 with 1 Axes>"
      ]
     },
     "metadata": {
      "needs_background": "light"
     },
     "output_type": "display_data"
    }
   ],
   "source": [
    "#Creating a bar chart comparing the senitment based on the category\n",
    "\n",
    "data1 = [['price',0.193265],['camera',0.199554],['battery',0.231281],['user interface',0.289210],['sound',0.314599],['performance',0.205092]]\n",
    "df1 = pd.DataFrame(data1,columns=['feature','value'])\n",
    "print(df1)\n",
    "data2 = [['price',0.205322],['camera',0.344355],['battery',0.163669],['user interface',0.188379],['sound',0.350573],['performance',0.272603]]\n",
    "df2 = pd.DataFrame(data2,columns=['feature','value'])\n",
    "print(df2)\n",
    "df1['Key'] = 'Samsung s10'\n",
    "df2['Key'] = 'iphone XS'\n",
    "\n",
    "DF = pd.concat([df1,df2],keys=['Samsung s10','iphone XS'])\n",
    "\n",
    "DFGroup = DF.groupby(['feature','Key'])\n",
    "\n",
    "DFGPlot = DFGroup.sum().unstack('Key').plot(kind='bar')\n"
   ]
  },
  {
   "cell_type": "code",
   "execution_count": null,
   "metadata": {},
   "outputs": [],
   "source": []
  }
 ],
 "metadata": {
  "kernelspec": {
   "display_name": "Python 3",
   "language": "python",
   "name": "python3"
  },
  "language_info": {
   "codemirror_mode": {
    "name": "ipython",
    "version": 3
   },
   "file_extension": ".py",
   "mimetype": "text/x-python",
   "name": "python",
   "nbconvert_exporter": "python",
   "pygments_lexer": "ipython3",
   "version": "3.7.1"
  }
 },
 "nbformat": 4,
 "nbformat_minor": 2
}
